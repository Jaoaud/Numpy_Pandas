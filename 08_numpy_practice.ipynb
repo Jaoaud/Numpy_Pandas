{
 "cells": [
  {
   "cell_type": "markdown",
   "id": "ce6d899a",
   "metadata": {},
   "source": [
    "# Practice on Numpy and Pandas\n",
    "\n",
    "Here are some task for you, to refresh what you saw in the notebooks before.\n",
    "\n",
    "It will help you strengthen the **learning objectives** from the notebook before. You should be able to\n",
    "- create numpy arrays\n",
    "- manipulate them with basic mathematics operators\n",
    "- extract rows, columns and items by indexing\n",
    "- use aggregation methods (like sum, min, max, std) on numpy arrays\n",
    "\n",
    "\n",
    "**Part 1**: Creating numpy arrays.\n",
    "\n",
    "- Please create a numpy array from the list:\n",
    "```Python\n",
    "my_list = [1, 2, 5, 6, 8]\n",
    "````\n",
    "\n",
    "- Please create a numpy array containing the values from 1 to 10.\n",
    "-  Please create a numpy array from 0 to 5 cwith a stepsize of 0.2\n",
    "- Create a numpy array with the shape 2,3 with random values\n"
   ]
  },
  {
   "cell_type": "code",
   "execution_count": 2,
   "id": "59fb3eb7",
   "metadata": {},
   "outputs": [
    {
     "data": {
      "text/plain": [
       "array([ 1,  2,  3,  4,  5,  6,  7,  8,  9, 10])"
      ]
     },
     "execution_count": 2,
     "metadata": {},
     "output_type": "execute_result"
    }
   ],
   "source": [
    "#1\n",
    "import numpy as np\n",
    "my_list_1 = np.arange(1,11)\n",
    "my_list_1"
   ]
  },
  {
   "cell_type": "code",
   "execution_count": 3,
   "id": "93a1fe47",
   "metadata": {},
   "outputs": [
    {
     "data": {
      "text/plain": [
       "array([0. , 0.2, 0.4, 0.6, 0.8, 1. , 1.2, 1.4, 1.6, 1.8, 2. , 2.2, 2.4,\n",
       "       2.6, 2.8, 3. , 3.2, 3.4, 3.6, 3.8, 4. , 4.2, 4.4, 4.6, 4.8])"
      ]
     },
     "execution_count": 3,
     "metadata": {},
     "output_type": "execute_result"
    }
   ],
   "source": [
    "#2\n",
    "my_list_2 = np.arange(0,5, 0.2)\n",
    "my_list_2"
   ]
  },
  {
   "cell_type": "code",
   "execution_count": 4,
   "id": "582057f1",
   "metadata": {},
   "outputs": [
    {
     "data": {
      "text/plain": [
       "array([[0.86120731, 0.81236708, 0.68641655],\n",
       "       [0.36053208, 0.37586963, 0.47166577]])"
      ]
     },
     "execution_count": 4,
     "metadata": {},
     "output_type": "execute_result"
    }
   ],
   "source": [
    "#3\n",
    "my_list_3 = np.random.rand(2,3)\n",
    "my_list_3"
   ]
  },
  {
   "cell_type": "markdown",
   "id": "d6f61175",
   "metadata": {},
   "source": [
    "**Part 2**: Manipulate numpy arrays.\n",
    "\n",
    "1. Please create a numpy array with (1, 3, '4', 7, 12, '0'). Define the content as integer.\n",
    "2. Check the data type of the objects and the shape of the array\n",
    "3. Update the 4th value to 30.\n",
    "4. Reshape the array to a 2x3 matrix.\n",
    "5. Please add 8 to the first row and 12 to the second row.\n",
    "6. Mulitply the first column with 2, the second with 3 and the third with 4.\n",
    "7. Please summ up all numbers in the first row, and all numbers in the second row.\n",
    "8. Similarly, search for the largest number for each column.\n",
    "9. Extract the number in the second column and the first row.\n",
    "10. Check at which index the value is exactly 48."
   ]
  },
  {
   "cell_type": "code",
   "execution_count": 43,
   "id": "c840e442",
   "metadata": {},
   "outputs": [
    {
     "data": {
      "text/plain": [
       "array([ 1,  3,  4,  7, 12,  0], dtype=int32)"
      ]
     },
     "execution_count": 43,
     "metadata": {},
     "output_type": "execute_result"
    }
   ],
   "source": [
    "#1\n",
    "my_list_4 = np.array([1, 3, '4', 7, 12, '0'], np.int32)\n",
    "my_list_4"
   ]
  },
  {
   "cell_type": "code",
   "execution_count": 44,
   "id": "197d46b4",
   "metadata": {},
   "outputs": [
    {
     "name": "stdout",
     "output_type": "stream",
     "text": [
      "<class 'numpy.ndarray'>\n",
      "(6,)\n"
     ]
    }
   ],
   "source": [
    "#2\n",
    "print(type(my_list_4))\n",
    "print(my_list_4.shape)"
   ]
  },
  {
   "cell_type": "code",
   "execution_count": 45,
   "id": "9a20a948",
   "metadata": {},
   "outputs": [
    {
     "data": {
      "text/plain": [
       "array([ 1,  3, 30,  7, 12,  0], dtype=int32)"
      ]
     },
     "execution_count": 45,
     "metadata": {},
     "output_type": "execute_result"
    }
   ],
   "source": [
    "#3\n",
    "my_list_4 = np.where(my_list_4 == 4, 30, my_list_4) \n",
    "my_list_4"
   ]
  },
  {
   "cell_type": "code",
   "execution_count": 46,
   "id": "3e4e7dfd",
   "metadata": {},
   "outputs": [
    {
     "name": "stdout",
     "output_type": "stream",
     "text": [
      "[[ 1  3 30]\n",
      " [ 7 12  0]]\n"
     ]
    }
   ],
   "source": [
    "#4\n",
    "my_list_4 = np.array(my_list_4).reshape(2, 3)\n",
    "print(my_list_4)"
   ]
  },
  {
   "cell_type": "code",
   "execution_count": 47,
   "id": "998bf4f7",
   "metadata": {},
   "outputs": [
    {
     "data": {
      "text/plain": [
       "array([[ 9, 11, 38],\n",
       "       [19, 24, 12]])"
      ]
     },
     "execution_count": 47,
     "metadata": {},
     "output_type": "execute_result"
    }
   ],
   "source": [
    "#5\n",
    "my_list_4 = my_list_4 + [[8], [12]]\n",
    "my_list_4"
   ]
  },
  {
   "cell_type": "code",
   "execution_count": 48,
   "id": "4c78606e",
   "metadata": {},
   "outputs": [
    {
     "data": {
      "text/plain": [
       "array([[ 18,  33, 152],\n",
       "       [ 38,  72,  48]])"
      ]
     },
     "execution_count": 48,
     "metadata": {},
     "output_type": "execute_result"
    }
   ],
   "source": [
    "#6\n",
    "my_list_4 = my_list_4 * [2, 3, 4]\n",
    "my_list_4"
   ]
  },
  {
   "cell_type": "code",
   "execution_count": 49,
   "id": "ae65e35d",
   "metadata": {},
   "outputs": [
    {
     "data": {
      "text/plain": [
       "array([203, 158])"
      ]
     },
     "execution_count": 49,
     "metadata": {},
     "output_type": "execute_result"
    }
   ],
   "source": [
    "#7\n",
    "my_list_4 .sum(axis=1)"
   ]
  },
  {
   "cell_type": "code",
   "execution_count": 50,
   "id": "eb9dbd14",
   "metadata": {},
   "outputs": [
    {
     "data": {
      "text/plain": [
       "array([ 38,  72, 152])"
      ]
     },
     "execution_count": 50,
     "metadata": {},
     "output_type": "execute_result"
    }
   ],
   "source": [
    "#8\n",
    "my_list_4.max(axis=0)"
   ]
  },
  {
   "cell_type": "code",
   "execution_count": 51,
   "id": "78f21832",
   "metadata": {},
   "outputs": [
    {
     "data": {
      "text/plain": [
       "array([33])"
      ]
     },
     "execution_count": 51,
     "metadata": {},
     "output_type": "execute_result"
    }
   ],
   "source": [
    "#9\n",
    "my_list_4[:1, 1]"
   ]
  },
  {
   "cell_type": "code",
   "execution_count": 52,
   "id": "9b4447c3",
   "metadata": {},
   "outputs": [
    {
     "name": "stdout",
     "output_type": "stream",
     "text": [
      "(array([1]), array([2]))\n"
     ]
    }
   ],
   "source": [
    "#10\n",
    "print(np.where(my_list_4 == 48))"
   ]
  },
  {
   "cell_type": "code",
   "execution_count": null,
   "id": "fbda569a",
   "metadata": {},
   "outputs": [],
   "source": []
  }
 ],
 "metadata": {
  "kernelspec": {
   "display_name": "Python 3",
   "language": "python",
   "name": "python3"
  },
  "language_info": {
   "codemirror_mode": {
    "name": "ipython",
    "version": 3
   },
   "file_extension": ".py",
   "mimetype": "text/x-python",
   "name": "python",
   "nbconvert_exporter": "python",
   "pygments_lexer": "ipython3",
   "version": "3.8.5"
  }
 },
 "nbformat": 4,
 "nbformat_minor": 5
}
