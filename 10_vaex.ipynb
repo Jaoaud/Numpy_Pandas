{
 "cells": [
  {
   "cell_type": "markdown",
   "id": "c967db05",
   "metadata": {},
   "source": [
    "# Working with large data\n",
    "In this extra notebook we want to show how to work with large data files - often several GB large). In such cases the data often wants to occupy more memory than your computer can offer and therefore we need to think about different strategy to tackle such large datasets (especially when working locally on our laptops). \n",
    "\n",
    "In this notebook we suggest one way to do so using a library named [VAEX](https://vaex.io/). VAEX is a development on top of Pandas and aims at giving users the same data handling functionality but with less memory-intensive workflows. The idea of VAEX is based on memory mapping using a single memory object and several mappings of it. \n",
    "\n",
    "## Download the dataset\n",
    "To show the power of this library we will take as an example the famous yellow taxi dataset that contains taxi trip data from yellow cabs in New York City in 2019. Execute the command below and wait for the download to begin. This will take several minutes as we download 7.7 GB."
   ]
  },
  {
   "cell_type": "code",
   "execution_count": 3,
   "id": "3f1d613c",
   "metadata": {},
   "outputs": [
    {
     "name": "stdout",
     "output_type": "stream",
     "text": [
      "  % Total    % Received % Xferd  Average Speed   Time    Time     Time  Current\n",
      "                                 Dload  Upload   Total   Spent    Left  Speed\n",
      "100 7818M    0 7818M    0     0  2147k      0 --:--:--  1:02:08 --:--:-- 2237k-:--  0:01:10 --:--:-- 2174k-:--  0:01:25 --:--:-- 2153k-:--:--  0:02:04 --:--:-- 2172k--:--  0:02:46 --:--:-- 2177k-:--  0:02:50 --:--:-- 2205k:--:--  0:03:31 --:--:-- 2149k  2107k      0 --:--:--  0:04:26 --:--:-- 2106k --:--:--  0:05:19 --:--:-- 2069k:--:--  0:06:36 --:--:-- 2120k-:--  0:07:32 --:--:-- 2160k    0 --:--:--  0:08:09 --:--:-- 2121k    0 --:--:--  0:08:16 --:--:-- 2172k 0  2122k      0 --:--:--  0:08:18 --:--:-- 2155k 2121k      0 --:--:--  0:08:37 --:--:-- 2094k92M    0 1192M    0     0  2123k      0 --:--:--  0:09:35 --:--:-- 2184k--:--:--  0:09:36 --:--:-- 2167k--:--  0:11:16 --:--:-- 2203k:--:--  0:13:56 --:--:-- 2139k--  0:14:17 --:--:-- 2169k    0 --:--:--  0:14:25 --:--:-- 2105k  0     0  2133k      0 --:--:--  0:14:50 --:--:-- 1968k    0 1981M    0     0  2128k      0 --:--:--  0:15:53 --:--:-- 2113k 0 --:--:--  0:16:07 --:--:-- 2085k--  0:16:36 --:--:-- 1984k-:--:-- 2107k121k      0 --:--:--  0:18:54 --:--:-- 2089k-:--:--  0:18:56 --:--:-- 2135k-:--  0:19:11 --:--:-- 2103k  2121k      0 --:--:--  0:19:26 --:--:-- 2041k 0 --:--:--  0:19:40 --:--:-- 2114k--:--:-- 2146k--:--  0:20:24 --:--:-- 2176k  2123k      0 --:--:--  0:20:49 --:--:-- 2213k-:--  0:20:50 --:--:-- 2174k     0  2124k      0 --:--:--  0:21:26 --:--:-- 2123k    0 --:--:--  0:22:06 --:--:-- 1810k--:--:--  0:22:22 --:--:-- 1997k--:--  0:22:50 --:--:-- 2031k:--:--  0:24:15 --:--:-- 2202k-:--:--  0:26:00 --:--:-- 2196k-:--  0:26:06 --:--:-- 2220k 0:26:16 --:--:-- 2175k:--:--  0:26:53 --:--:-- 2231k --:--:--  0:27:07 --:--:-- 2217kM    0     0  2129k      0 --:--:--  0:27:56 --:--:-- 2193k--  0:28:31 --:--:-- 2102k      0 --:--:--  0:28:45 --:--:-- 2028k-:-- 2020k0 --:--:--  0:29:56 --:--:-- 2151k 0 --:--:--  0:30:24 --:--:-- 2124k  0:30:41 --:--:-- 2065k  2126k      0 --:--:--  0:31:31 --:--:-- 2141k--:--  0:32:21 --:--:-- 2167k 0 --:--:--  0:32:38 --:--:-- 2128k32:44 --:--:-- 2027k-:--  0:32:49 --:--:-- 2159k:--:--  0:33:39 --:--:-- 2155k0  2127k      0 --:--:--  0:33:42 --:--:-- 2160k   0  2129k      0 --:--:--  0:34:57 --:--:-- 2192k   0  2130k      0 --:--:--  0:35:16 --:--:-- 2124k     0 --:--:--  0:35:33 --:--:-- 2129k:--:--  0:35:48 --:--:-- 2165k-:--:-- 2046k 0     0  2131k      0 --:--:--  0:36:42 --:--:-- 2109k:--:--  0:37:58 --:--:-- 2180k2132k      0 --:--:--  0:38:15 --:--:-- 2070k0:38:37 --:--:-- 2069k38:54 --:--:-- 2136k--:--:--  0:40:58 --:--:-- 2144k    0 --:--:--  0:42:34 --:--:-- 2158k--:--  0:42:53 --:--:-- 2148k--  0:43:11 --:--:-- 2174k-:--:--  0:43:30 --:--:-- 2187k--:--  0:43:37 --:--:-- 2183k 0 --:--:--  0:45:27 --:--:-- 2179k:--:--  0:45:52 --:--:-- 2201k--  0:46:08 --:--:-- 2177k2M    0     0  2138k      0 --:--:--  0:46:08 --:--:-- 2195kM    0     0  2138k      0 --:--:--  0:46:18 --:--:-- 2189k:--:--  0:47:15 --:--:-- 2178k--:--:--  0:47:24 --:--:-- 2202k-:--:--  0:48:39 --:--:-- 2021k--:--  0:49:21 --:--:-- 2157k  2140k      0 --:--:--  0:51:38 --:--:-- 2241k:--:--  0:51:40 --:--:-- 2230k    0  2141k      0 --:--:--  0:53:05 --:--:-- 2218k-:--  0:55:13 --:--:-- 2158k --:--:--  0:55:14 --:--:-- 2131k 0  2144k      0 --:--:--  0:58:54 --:--:-- 2130k 0 --:--:--  0:59:13 --:--:-- 2154k:--:--  1:00:32 --:--:-- 2171k   0  2146k      0 --:--:--  1:01:25 --:--:-- 2235k0 --:--:--  1:02:08 --:--:-- 2259k\n"
     ]
    }
   ],
   "source": [
    "# Download the yellow taxi data file into the data folder.\n",
    "!curl -L \"https://data.cityofnewyork.us/api/views/2upf-qytp/rows.csv?accessType=DOWNLOAD\" --output data/yellow_taxi_2019.csv"
   ]
  },
  {
   "cell_type": "markdown",
   "id": "8c675248",
   "metadata": {},
   "source": [
    "## Convert the data\n",
    "\n",
    "The data is stored as a `CSV` file. __Please do not try to open this file as it will probably lead to problems on your computer because your memory will run full.__ As the same effect would occur when opening this file by either a Python file reader or using Pandas it has to be done in a resourceful way. VAEX offers such a resourceful way by loading it in chunks (we use chunks of around 100,000 rows) and exporting it again in a subfolder in `HDF5` format. [`HDF5`](https://support.hdfgroup.org/HDF5/doc/H5.intro.html) is a data format that gives it already a fast readable structure with many metadata and a hierarchical design. By this I/O access can be managed in parallel and data is already ordered in groups such that certain data can be loaded without touching other. This enables a very fast data access. "
   ]
  },
  {
   "cell_type": "code",
   "execution_count": 1,
   "id": "396b840f",
   "metadata": {},
   "outputs": [
    {
     "data": {
      "application/vnd.jupyter.widget-view+json": {
       "model_id": "5e184eefca3e4a638ef62356447d7070",
       "version_major": 2,
       "version_minor": 0
      },
      "text/plain": [
       "  0%|          | 0/844 [00:00<?, ?it/s]"
      ]
     },
     "metadata": {},
     "output_type": "display_data"
    },
    {
     "name": "stdout",
     "output_type": "stream",
     "text": [
      "# HDF5 Files in data/yellow_taxi: 844\n"
     ]
    }
   ],
   "source": [
    "import os, vaex\n",
    "from tqdm.notebook import tqdm\n",
    "\n",
    "# Read in the first two lines of data and store the data types\n",
    "# in a dictionary. \n",
    "df_first2 = vaex.from_csv('data/yellow_taxi_2019.csv', nrows = 30)\n",
    "column_types = {name: (str(dtype.__name__) if isinstance(dtype, type) else 'float64') for name,dtype in df_first2.dtypes.to_dict().items()}\n",
    "\n",
    "# Create a new directory in the data folder that holds the \n",
    "# converted data chunks for further preprocessing.\n",
    "!mkdir data/yellow_taxi\n",
    "\n",
    "# Read in the data in memory-firendly chunks. We clean the dataset \n",
    "# on-the-fly and remove all entries with more than 6 passengers. \n",
    "# Export the data in the data format 'HDF5'.\n",
    "for i, df in tqdm(enumerate(vaex.from_csv('data/yellow_taxi_2019.csv', chunk_size=100_000, dtype=column_types)), total=844):\n",
    "    df = df[df.passenger_count < 6]\n",
    "    df.export_hdf5(f'data/yellow_taxi/taxi_{i:02}.hdf5')\n",
    "    \n",
    "# Count the files exported.\n",
    "print( f\"# HDF5 Files in data/yellow_taxi: {len(os.listdir('data/yellow_taxi/'))}\")"
   ]
  },
  {
   "cell_type": "code",
   "execution_count": 2,
   "id": "9e3a4d39",
   "metadata": {},
   "outputs": [
    {
     "name": "stdout",
     "output_type": "stream",
     "text": [
      " 14G\tdata/yellow_taxi\n"
     ]
    }
   ],
   "source": [
    "# Check the folder size.\n",
    "!du -h data/yellow_taxi"
   ]
  },
  {
   "cell_type": "markdown",
   "id": "e570fd71",
   "metadata": {},
   "source": [
    "The exported chunk files occupy now 14 GB of disk space. This is due to the metadata that provides the `HDF5` file structure. And: it is of neglible cost. Disk space is cheap, memory is expensive and the resource to be guarded. However, to use the whole power `HDF5` offers we have to create a single file of this data format. This is done in the next cells. "
   ]
  },
  {
   "cell_type": "code",
   "execution_count": 3,
   "id": "09377d2f",
   "metadata": {},
   "outputs": [],
   "source": [
    "# Import all .hdf5 chunks into a single dataset and\n",
    "# export it to a single .hdf5 file we can work on\n",
    "df = vaex.open('data/yellow_taxi/taxi*')\n",
    "df.export_hdf5('data/yellow_taxi_aggregated.hdf5')\n",
    "\n",
    "# Remove the temporary file directory from the data \n",
    "# preprocessing step.\n",
    "!rm -r data/yellow_taxi"
   ]
  },
  {
   "cell_type": "markdown",
   "id": "92753835",
   "metadata": {},
   "source": [
    "## Reading the data\n",
    "\n",
    "After the data preprocessing has been done we can finally open the data file and start with the data transformation and analysis. VAEX offers for this the `open()` command that opens an `HDF5`file (without loading it). "
   ]
  },
  {
   "cell_type": "code",
   "execution_count": 4,
   "id": "85f90cbc",
   "metadata": {},
   "outputs": [
    {
     "name": "stdout",
     "output_type": "stream",
     "text": [
      "Data dimensions: (82112352, 18)\n"
     ]
    }
   ],
   "source": [
    "# Open the HDF5 file and show the dimensions\n",
    "df = vaex.open('data/yellow_taxi_aggregated.hdf5')\n",
    "print(f'Data dimensions: {df.shape}')"
   ]
  },
  {
   "cell_type": "markdown",
   "id": "610fd3d7",
   "metadata": {},
   "source": [
    "Over 80 mio. entries. This is impressive. Let us have a preview on the data in the next cell. "
   ]
  },
  {
   "cell_type": "code",
   "execution_count": 5,
   "id": "3975c700",
   "metadata": {},
   "outputs": [
    {
     "data": {
      "text/html": [
       "<table>\n",
       "<thead>\n",
       "<tr><th>#                                     </th><th>VendorID  </th><th>tpep_pickup_datetime  </th><th>tpep_dropoff_datetime  </th><th>passenger_count  </th><th>trip_distance  </th><th>RatecodeID  </th><th>store_and_fwd_flag  </th><th>PULocationID  </th><th>DOLocationID  </th><th>payment_type  </th><th>fare_amount  </th><th>extra  </th><th>mta_tax  </th><th>tip_amount  </th><th>tolls_amount  </th><th>improvement_surcharge  </th><th>total_amount  </th><th>congestion_surcharge  </th></tr>\n",
       "</thead>\n",
       "<tbody>\n",
       "<tr><td>&lt;i style=&#x27;opacity: 0.6&#x27;&gt;0&lt;/i&gt;         </td><td>1.0       </td><td>10/08/2019 10:21:25 PM</td><td>10/08/2019 10:25:28 PM </td><td>1.0              </td><td>0.8            </td><td>1.0         </td><td>N                   </td><td>74.0          </td><td>74.0          </td><td>2.0           </td><td>5.0          </td><td>0.5    </td><td>0.5      </td><td>0.0         </td><td>0.0           </td><td>0.3                    </td><td>6.3           </td><td>0.0                   </td></tr>\n",
       "<tr><td>&lt;i style=&#x27;opacity: 0.6&#x27;&gt;1&lt;/i&gt;         </td><td>1.0       </td><td>10/08/2019 10:55:18 PM</td><td>10/08/2019 11:00:27 PM </td><td>1.0              </td><td>0.6            </td><td>1.0         </td><td>N                   </td><td>163.0         </td><td>229.0         </td><td>1.0           </td><td>5.5          </td><td>3.0    </td><td>0.5      </td><td>1.85        </td><td>0.0           </td><td>0.3                    </td><td>11.15         </td><td>2.5                   </td></tr>\n",
       "<tr><td>&lt;i style=&#x27;opacity: 0.6&#x27;&gt;2&lt;/i&gt;         </td><td>2.0       </td><td>10/08/2019 10:18:09 PM</td><td>10/08/2019 10:24:52 PM </td><td>1.0              </td><td>1.27           </td><td>1.0         </td><td>N                   </td><td>237.0         </td><td>233.0         </td><td>1.0           </td><td>7.0          </td><td>0.5    </td><td>0.5      </td><td>2.0         </td><td>0.0           </td><td>0.3                    </td><td>12.8          </td><td>2.5                   </td></tr>\n",
       "<tr><td>&lt;i style=&#x27;opacity: 0.6&#x27;&gt;3&lt;/i&gt;         </td><td>2.0       </td><td>10/08/2019 10:50:40 PM</td><td>10/08/2019 10:59:37 PM </td><td>1.0              </td><td>1.99           </td><td>1.0         </td><td>N                   </td><td>161.0         </td><td>236.0         </td><td>1.0           </td><td>9.0          </td><td>0.5    </td><td>0.5      </td><td>1.92        </td><td>0.0           </td><td>0.3                    </td><td>14.72         </td><td>2.5                   </td></tr>\n",
       "<tr><td>&lt;i style=&#x27;opacity: 0.6&#x27;&gt;4&lt;/i&gt;         </td><td>2.0       </td><td>10/08/2019 10:01:03 PM</td><td>10/08/2019 10:06:56 PM </td><td>1.0              </td><td>1.24           </td><td>1.0         </td><td>N                   </td><td>263.0         </td><td>43.0          </td><td>1.0           </td><td>6.5          </td><td>0.5    </td><td>0.5      </td><td>1.54        </td><td>0.0           </td><td>0.3                    </td><td>11.84         </td><td>2.5                   </td></tr>\n",
       "<tr><td>...                                   </td><td>...       </td><td>...                   </td><td>...                    </td><td>...              </td><td>...            </td><td>...         </td><td>...                 </td><td>...           </td><td>...           </td><td>...           </td><td>...          </td><td>...    </td><td>...      </td><td>...         </td><td>...           </td><td>...                    </td><td>...           </td><td>...                   </td></tr>\n",
       "<tr><td>&lt;i style=&#x27;opacity: 0.6&#x27;&gt;82,112,347&lt;/i&gt;</td><td>2.0       </td><td>11/20/2019 01:26:55 PM</td><td>11/20/2019 01:38:15 PM </td><td>1.0              </td><td>1.21           </td><td>1.0         </td><td>N                   </td><td>141.0         </td><td>262.0         </td><td>2.0           </td><td>8.5          </td><td>0.0    </td><td>0.5      </td><td>0.0         </td><td>0.0           </td><td>0.3                    </td><td>11.8          </td><td>2.5                   </td></tr>\n",
       "<tr><td>&lt;i style=&#x27;opacity: 0.6&#x27;&gt;82,112,348&lt;/i&gt;</td><td>2.0       </td><td>11/20/2019 01:42:44 PM</td><td>11/20/2019 02:06:35 PM </td><td>1.0              </td><td>2.49           </td><td>1.0         </td><td>N                   </td><td>140.0         </td><td>170.0         </td><td>1.0           </td><td>15.5         </td><td>0.0    </td><td>0.5      </td><td>5.64        </td><td>0.0           </td><td>0.3                    </td><td>24.44         </td><td>2.5                   </td></tr>\n",
       "<tr><td>&lt;i style=&#x27;opacity: 0.6&#x27;&gt;82,112,349&lt;/i&gt;</td><td>2.0       </td><td>11/20/2019 01:22:12 PM</td><td>11/20/2019 01:30:57 PM </td><td>2.0              </td><td>1.5            </td><td>1.0         </td><td>N                   </td><td>141.0         </td><td>239.0         </td><td>2.0           </td><td>8.0          </td><td>0.0    </td><td>0.5      </td><td>0.0         </td><td>0.0           </td><td>0.3                    </td><td>11.3          </td><td>2.5                   </td></tr>\n",
       "<tr><td>&lt;i style=&#x27;opacity: 0.6&#x27;&gt;82,112,350&lt;/i&gt;</td><td>2.0       </td><td>11/20/2019 01:33:38 PM</td><td>11/20/2019 01:38:28 PM </td><td>2.0              </td><td>0.54           </td><td>1.0         </td><td>N                   </td><td>239.0         </td><td>239.0         </td><td>2.0           </td><td>5.0          </td><td>0.0    </td><td>0.5      </td><td>0.0         </td><td>0.0           </td><td>0.3                    </td><td>8.3           </td><td>2.5                   </td></tr>\n",
       "<tr><td>&lt;i style=&#x27;opacity: 0.6&#x27;&gt;82,112,351&lt;/i&gt;</td><td>2.0       </td><td>11/20/2019 01:41:31 PM</td><td>11/20/2019 01:54:48 PM </td><td>2.0              </td><td>2.27           </td><td>1.0         </td><td>N                   </td><td>239.0         </td><td>43.0          </td><td>1.0           </td><td>11.0         </td><td>0.0    </td><td>0.5      </td><td>2.86        </td><td>0.0           </td><td>0.3                    </td><td>17.16         </td><td>2.5                   </td></tr>\n",
       "</tbody>\n",
       "</table>"
      ],
      "text/plain": [
       "#           VendorID    tpep_pickup_datetime    tpep_dropoff_datetime    passenger_count    trip_distance    RatecodeID    store_and_fwd_flag    PULocationID    DOLocationID    payment_type    fare_amount    extra    mta_tax    tip_amount    tolls_amount    improvement_surcharge    total_amount    congestion_surcharge\n",
       "0           1.0         10/08/2019 10:21:25 PM  10/08/2019 10:25:28 PM   1.0                0.8              1.0           N                     74.0            74.0            2.0             5.0            0.5      0.5        0.0           0.0             0.3                      6.3             0.0\n",
       "1           1.0         10/08/2019 10:55:18 PM  10/08/2019 11:00:27 PM   1.0                0.6              1.0           N                     163.0           229.0           1.0             5.5            3.0      0.5        1.85          0.0             0.3                      11.15           2.5\n",
       "2           2.0         10/08/2019 10:18:09 PM  10/08/2019 10:24:52 PM   1.0                1.27             1.0           N                     237.0           233.0           1.0             7.0            0.5      0.5        2.0           0.0             0.3                      12.8            2.5\n",
       "3           2.0         10/08/2019 10:50:40 PM  10/08/2019 10:59:37 PM   1.0                1.99             1.0           N                     161.0           236.0           1.0             9.0            0.5      0.5        1.92          0.0             0.3                      14.72           2.5\n",
       "4           2.0         10/08/2019 10:01:03 PM  10/08/2019 10:06:56 PM   1.0                1.24             1.0           N                     263.0           43.0            1.0             6.5            0.5      0.5        1.54          0.0             0.3                      11.84           2.5\n",
       "...         ...         ...                     ...                      ...                ...              ...           ...                   ...             ...             ...             ...            ...      ...        ...           ...             ...                      ...             ...\n",
       "82,112,347  2.0         11/20/2019 01:26:55 PM  11/20/2019 01:38:15 PM   1.0                1.21             1.0           N                     141.0           262.0           2.0             8.5            0.0      0.5        0.0           0.0             0.3                      11.8            2.5\n",
       "82,112,348  2.0         11/20/2019 01:42:44 PM  11/20/2019 02:06:35 PM   1.0                2.49             1.0           N                     140.0           170.0           1.0             15.5           0.0      0.5        5.64          0.0             0.3                      24.44           2.5\n",
       "82,112,349  2.0         11/20/2019 01:22:12 PM  11/20/2019 01:30:57 PM   2.0                1.5              1.0           N                     141.0           239.0           2.0             8.0            0.0      0.5        0.0           0.0             0.3                      11.3            2.5\n",
       "82,112,350  2.0         11/20/2019 01:33:38 PM  11/20/2019 01:38:28 PM   2.0                0.54             1.0           N                     239.0           239.0           2.0             5.0            0.0      0.5        0.0           0.0             0.3                      8.3             2.5\n",
       "82,112,351  2.0         11/20/2019 01:41:31 PM  11/20/2019 01:54:48 PM   2.0                2.27             1.0           N                     239.0           43.0            1.0             11.0           0.0      0.5        2.86          0.0             0.3                      17.16           2.5"
      ]
     },
     "execution_count": 5,
     "metadata": {},
     "output_type": "execute_result"
    }
   ],
   "source": [
    "# Preview the data\n",
    "df"
   ]
  },
  {
   "cell_type": "markdown",
   "id": "f8f69133",
   "metadata": {},
   "source": [
    "Why is it so fast? This is due to the fact that it reads in only the HDF5 metadata (i.e. path, data structure, file description, etc.) and not the data itself. Then, displaying the data requires only the first and last 5 rows to be read from disk. VAEX only goes over the entire dataset if needed. \n",
    "\n",
    "For a good starting point we always look at the data summaries so let us see how this works with VAEX on a large dataset. "
   ]
  },
  {
   "cell_type": "code",
   "execution_count": 6,
   "id": "68d9bad8",
   "metadata": {},
   "outputs": [
    {
     "data": {
      "text/html": [
       "<div>\n",
       "<style scoped>\n",
       "    .dataframe tbody tr th:only-of-type {\n",
       "        vertical-align: middle;\n",
       "    }\n",
       "\n",
       "    .dataframe tbody tr th {\n",
       "        vertical-align: top;\n",
       "    }\n",
       "\n",
       "    .dataframe thead th {\n",
       "        text-align: right;\n",
       "    }\n",
       "</style>\n",
       "<table border=\"1\" class=\"dataframe\">\n",
       "  <thead>\n",
       "    <tr style=\"text-align: right;\">\n",
       "      <th></th>\n",
       "      <th>VendorID</th>\n",
       "      <th>tpep_pickup_datetime</th>\n",
       "      <th>tpep_dropoff_datetime</th>\n",
       "      <th>passenger_count</th>\n",
       "      <th>trip_distance</th>\n",
       "      <th>RatecodeID</th>\n",
       "      <th>store_and_fwd_flag</th>\n",
       "      <th>PULocationID</th>\n",
       "      <th>DOLocationID</th>\n",
       "      <th>payment_type</th>\n",
       "      <th>fare_amount</th>\n",
       "      <th>extra</th>\n",
       "      <th>mta_tax</th>\n",
       "      <th>tip_amount</th>\n",
       "      <th>tolls_amount</th>\n",
       "      <th>improvement_surcharge</th>\n",
       "      <th>total_amount</th>\n",
       "      <th>congestion_surcharge</th>\n",
       "    </tr>\n",
       "  </thead>\n",
       "  <tbody>\n",
       "    <tr>\n",
       "      <th>dtype</th>\n",
       "      <td>float64</td>\n",
       "      <td>str</td>\n",
       "      <td>str</td>\n",
       "      <td>float64</td>\n",
       "      <td>float64</td>\n",
       "      <td>float64</td>\n",
       "      <td>str</td>\n",
       "      <td>float64</td>\n",
       "      <td>float64</td>\n",
       "      <td>float64</td>\n",
       "      <td>float64</td>\n",
       "      <td>float64</td>\n",
       "      <td>float64</td>\n",
       "      <td>float64</td>\n",
       "      <td>float64</td>\n",
       "      <td>float64</td>\n",
       "      <td>float64</td>\n",
       "      <td>float64</td>\n",
       "    </tr>\n",
       "    <tr>\n",
       "      <th>count</th>\n",
       "      <td>82112352</td>\n",
       "      <td>82112352</td>\n",
       "      <td>82112352</td>\n",
       "      <td>82112352</td>\n",
       "      <td>82112352</td>\n",
       "      <td>82112352</td>\n",
       "      <td>82112352</td>\n",
       "      <td>82112352</td>\n",
       "      <td>82112352</td>\n",
       "      <td>82112352</td>\n",
       "      <td>82112352</td>\n",
       "      <td>82112352</td>\n",
       "      <td>82112352</td>\n",
       "      <td>82112352</td>\n",
       "      <td>82112352</td>\n",
       "      <td>82112352</td>\n",
       "      <td>82112352</td>\n",
       "      <td>77383763</td>\n",
       "    </tr>\n",
       "    <tr>\n",
       "      <th>NA</th>\n",
       "      <td>0</td>\n",
       "      <td>0</td>\n",
       "      <td>0</td>\n",
       "      <td>0</td>\n",
       "      <td>0</td>\n",
       "      <td>0</td>\n",
       "      <td>0</td>\n",
       "      <td>0</td>\n",
       "      <td>0</td>\n",
       "      <td>0</td>\n",
       "      <td>0</td>\n",
       "      <td>0</td>\n",
       "      <td>0</td>\n",
       "      <td>0</td>\n",
       "      <td>0</td>\n",
       "      <td>0</td>\n",
       "      <td>0</td>\n",
       "      <td>4728589</td>\n",
       "    </tr>\n",
       "    <tr>\n",
       "      <th>mean</th>\n",
       "      <td>1.636836526129467</td>\n",
       "      <td>--</td>\n",
       "      <td>--</td>\n",
       "      <td>1.4524298731572078</td>\n",
       "      <td>2.9838907417976532</td>\n",
       "      <td>1.0618018833512406</td>\n",
       "      <td>--</td>\n",
       "      <td>163.2548939043909</td>\n",
       "      <td>161.44797838697886</td>\n",
       "      <td>1.2894824033295258</td>\n",
       "      <td>13.288042800066341</td>\n",
       "      <td>1.1005647899356434</td>\n",
       "      <td>0.4950078007752108</td>\n",
       "      <td>2.200762333663193</td>\n",
       "      <td>0.3779436348419175</td>\n",
       "      <td>0.2985924309783753</td>\n",
       "      <td>19.069242853807484</td>\n",
       "      <td>2.194720979128399</td>\n",
       "    </tr>\n",
       "    <tr>\n",
       "      <th>std</th>\n",
       "      <td>0.500791</td>\n",
       "      <td>--</td>\n",
       "      <td>--</td>\n",
       "      <td>0.99687</td>\n",
       "      <td>6.744283</td>\n",
       "      <td>0.767485</td>\n",
       "      <td>--</td>\n",
       "      <td>65.970107</td>\n",
       "      <td>70.220914</td>\n",
       "      <td>0.479656</td>\n",
       "      <td>176.771866</td>\n",
       "      <td>1.252932</td>\n",
       "      <td>0.066047</td>\n",
       "      <td>15.866815</td>\n",
       "      <td>1.812629</td>\n",
       "      <td>0.028003</td>\n",
       "      <td>186.614131</td>\n",
       "      <td>0.829998</td>\n",
       "    </tr>\n",
       "    <tr>\n",
       "      <th>min</th>\n",
       "      <td>1.0</td>\n",
       "      <td>--</td>\n",
       "      <td>--</td>\n",
       "      <td>0.0</td>\n",
       "      <td>-23.01</td>\n",
       "      <td>1.0</td>\n",
       "      <td>--</td>\n",
       "      <td>1.0</td>\n",
       "      <td>1.0</td>\n",
       "      <td>1.0</td>\n",
       "      <td>-1856.0</td>\n",
       "      <td>-60.0</td>\n",
       "      <td>-0.5</td>\n",
       "      <td>-221.0</td>\n",
       "      <td>-70.0</td>\n",
       "      <td>-0.3</td>\n",
       "      <td>-1871.8</td>\n",
       "      <td>-2.5</td>\n",
       "    </tr>\n",
       "    <tr>\n",
       "      <th>max</th>\n",
       "      <td>4.0</td>\n",
       "      <td>--</td>\n",
       "      <td>--</td>\n",
       "      <td>5.0</td>\n",
       "      <td>45977.22</td>\n",
       "      <td>99.0</td>\n",
       "      <td>--</td>\n",
       "      <td>265.0</td>\n",
       "      <td>265.0</td>\n",
       "      <td>5.0</td>\n",
       "      <td>943274.8</td>\n",
       "      <td>535.38</td>\n",
       "      <td>212.42</td>\n",
       "      <td>141492.02</td>\n",
       "      <td>3288.0</td>\n",
       "      <td>1.0</td>\n",
       "      <td>1084772.17</td>\n",
       "      <td>3.0</td>\n",
       "    </tr>\n",
       "  </tbody>\n",
       "</table>\n",
       "</div>"
      ],
      "text/plain": [
       "                VendorID tpep_pickup_datetime tpep_dropoff_datetime  \\\n",
       "dtype            float64                  str                   str   \n",
       "count           82112352             82112352              82112352   \n",
       "NA                     0                    0                     0   \n",
       "mean   1.636836526129467                   --                    --   \n",
       "std             0.500791                   --                    --   \n",
       "min                  1.0                   --                    --   \n",
       "max                  4.0                   --                    --   \n",
       "\n",
       "          passenger_count       trip_distance          RatecodeID  \\\n",
       "dtype             float64             float64             float64   \n",
       "count            82112352            82112352            82112352   \n",
       "NA                      0                   0                   0   \n",
       "mean   1.4524298731572078  2.9838907417976532  1.0618018833512406   \n",
       "std               0.99687            6.744283            0.767485   \n",
       "min                   0.0              -23.01                 1.0   \n",
       "max                   5.0            45977.22                99.0   \n",
       "\n",
       "      store_and_fwd_flag       PULocationID        DOLocationID  \\\n",
       "dtype                str            float64             float64   \n",
       "count           82112352           82112352            82112352   \n",
       "NA                     0                  0                   0   \n",
       "mean                  --  163.2548939043909  161.44797838697886   \n",
       "std                   --          65.970107           70.220914   \n",
       "min                   --                1.0                 1.0   \n",
       "max                   --              265.0               265.0   \n",
       "\n",
       "             payment_type         fare_amount               extra  \\\n",
       "dtype             float64             float64             float64   \n",
       "count            82112352            82112352            82112352   \n",
       "NA                      0                   0                   0   \n",
       "mean   1.2894824033295258  13.288042800066341  1.1005647899356434   \n",
       "std              0.479656          176.771866            1.252932   \n",
       "min                   1.0             -1856.0               -60.0   \n",
       "max                   5.0            943274.8              535.38   \n",
       "\n",
       "                  mta_tax         tip_amount        tolls_amount  \\\n",
       "dtype             float64            float64             float64   \n",
       "count            82112352           82112352            82112352   \n",
       "NA                      0                  0                   0   \n",
       "mean   0.4950078007752108  2.200762333663193  0.3779436348419175   \n",
       "std              0.066047          15.866815            1.812629   \n",
       "min                  -0.5             -221.0               -70.0   \n",
       "max                212.42          141492.02              3288.0   \n",
       "\n",
       "      improvement_surcharge        total_amount congestion_surcharge  \n",
       "dtype               float64             float64              float64  \n",
       "count              82112352            82112352             77383763  \n",
       "NA                        0                   0              4728589  \n",
       "mean     0.2985924309783753  19.069242853807484    2.194720979128399  \n",
       "std                0.028003          186.614131             0.829998  \n",
       "min                    -0.3             -1871.8                 -2.5  \n",
       "max                     1.0          1084772.17                  3.0  "
      ]
     },
     "execution_count": 6,
     "metadata": {},
     "output_type": "execute_result"
    }
   ],
   "source": [
    "# Show some summary statistics\n",
    "# NOTE: Throws probably a warning in regard to\n",
    "# division by NAN. You can safely neglect this warning.\n",
    "df.describe()"
   ]
  },
  {
   "cell_type": "markdown",
   "id": "f7f194bf",
   "metadata": {},
   "source": [
    "All of these stats are calculated in a single pass over the data. This illustrates nicely how efficiently VAEX works. Other libraries would have needed more computing resources while VAEX you need only a few RAM to run this operation. "
   ]
  },
  {
   "cell_type": "markdown",
   "id": "0d021f2f",
   "metadata": {},
   "source": [
    "## Data manipulations\n",
    "We can see here a number of different variables, altogether 38, for taxi trips in NYC 2019. Quite often we want to filter the dataset for certain groups of values. Here for example we might want to filter the dataset by the number of passengers:"
   ]
  },
  {
   "cell_type": "code",
   "execution_count": 7,
   "id": "346a889b",
   "metadata": {},
   "outputs": [
    {
     "data": {
      "text/html": [
       "<table>\n",
       "<thead>\n",
       "<tr><th>#                                     </th><th>VendorID  </th><th>tpep_pickup_datetime  </th><th>tpep_dropoff_datetime  </th><th>passenger_count  </th><th>trip_distance  </th><th>RatecodeID  </th><th>store_and_fwd_flag  </th><th>PULocationID  </th><th>DOLocationID  </th><th>payment_type  </th><th>fare_amount  </th><th>extra  </th><th>mta_tax  </th><th>tip_amount  </th><th>tolls_amount  </th><th>improvement_surcharge  </th><th>total_amount  </th><th>congestion_surcharge  </th></tr>\n",
       "</thead>\n",
       "<tbody>\n",
       "<tr><td>&lt;i style=&#x27;opacity: 0.6&#x27;&gt;0&lt;/i&gt;         </td><td>1.0       </td><td>10/08/2019 10:21:25 PM</td><td>10/08/2019 10:25:28 PM </td><td>1.0              </td><td>0.8            </td><td>1.0         </td><td>N                   </td><td>74.0          </td><td>74.0          </td><td>2.0           </td><td>5.0          </td><td>0.5    </td><td>0.5      </td><td>0.0         </td><td>0.0           </td><td>0.3                    </td><td>6.3           </td><td>0.0                   </td></tr>\n",
       "<tr><td>&lt;i style=&#x27;opacity: 0.6&#x27;&gt;1&lt;/i&gt;         </td><td>1.0       </td><td>10/08/2019 10:55:18 PM</td><td>10/08/2019 11:00:27 PM </td><td>1.0              </td><td>0.6            </td><td>1.0         </td><td>N                   </td><td>163.0         </td><td>229.0         </td><td>1.0           </td><td>5.5          </td><td>3.0    </td><td>0.5      </td><td>1.85        </td><td>0.0           </td><td>0.3                    </td><td>11.15         </td><td>2.5                   </td></tr>\n",
       "<tr><td>&lt;i style=&#x27;opacity: 0.6&#x27;&gt;2&lt;/i&gt;         </td><td>2.0       </td><td>10/08/2019 10:18:09 PM</td><td>10/08/2019 10:24:52 PM </td><td>1.0              </td><td>1.27           </td><td>1.0         </td><td>N                   </td><td>237.0         </td><td>233.0         </td><td>1.0           </td><td>7.0          </td><td>0.5    </td><td>0.5      </td><td>2.0         </td><td>0.0           </td><td>0.3                    </td><td>12.8          </td><td>2.5                   </td></tr>\n",
       "<tr><td>&lt;i style=&#x27;opacity: 0.6&#x27;&gt;3&lt;/i&gt;         </td><td>2.0       </td><td>10/08/2019 10:50:40 PM</td><td>10/08/2019 10:59:37 PM </td><td>1.0              </td><td>1.99           </td><td>1.0         </td><td>N                   </td><td>161.0         </td><td>236.0         </td><td>1.0           </td><td>9.0          </td><td>0.5    </td><td>0.5      </td><td>1.92        </td><td>0.0           </td><td>0.3                    </td><td>14.72         </td><td>2.5                   </td></tr>\n",
       "<tr><td>&lt;i style=&#x27;opacity: 0.6&#x27;&gt;4&lt;/i&gt;         </td><td>2.0       </td><td>10/08/2019 10:01:03 PM</td><td>10/08/2019 10:06:56 PM </td><td>1.0              </td><td>1.24           </td><td>1.0         </td><td>N                   </td><td>263.0         </td><td>43.0          </td><td>1.0           </td><td>6.5          </td><td>0.5    </td><td>0.5      </td><td>1.54        </td><td>0.0           </td><td>0.3                    </td><td>11.84         </td><td>2.5                   </td></tr>\n",
       "<tr><td>...                                   </td><td>...       </td><td>...                   </td><td>...                    </td><td>...              </td><td>...            </td><td>...         </td><td>...                 </td><td>...           </td><td>...           </td><td>...           </td><td>...          </td><td>...    </td><td>...      </td><td>...         </td><td>...           </td><td>...                    </td><td>...           </td><td>...                   </td></tr>\n",
       "<tr><td>&lt;i style=&#x27;opacity: 0.6&#x27;&gt;77,188,337&lt;/i&gt;</td><td>2.0       </td><td>11/20/2019 01:26:55 PM</td><td>11/20/2019 01:38:15 PM </td><td>1.0              </td><td>1.21           </td><td>1.0         </td><td>N                   </td><td>141.0         </td><td>262.0         </td><td>2.0           </td><td>8.5          </td><td>0.0    </td><td>0.5      </td><td>0.0         </td><td>0.0           </td><td>0.3                    </td><td>11.8          </td><td>2.5                   </td></tr>\n",
       "<tr><td>&lt;i style=&#x27;opacity: 0.6&#x27;&gt;77,188,338&lt;/i&gt;</td><td>2.0       </td><td>11/20/2019 01:42:44 PM</td><td>11/20/2019 02:06:35 PM </td><td>1.0              </td><td>2.49           </td><td>1.0         </td><td>N                   </td><td>140.0         </td><td>170.0         </td><td>1.0           </td><td>15.5         </td><td>0.0    </td><td>0.5      </td><td>5.64        </td><td>0.0           </td><td>0.3                    </td><td>24.44         </td><td>2.5                   </td></tr>\n",
       "<tr><td>&lt;i style=&#x27;opacity: 0.6&#x27;&gt;77,188,339&lt;/i&gt;</td><td>2.0       </td><td>11/20/2019 01:22:12 PM</td><td>11/20/2019 01:30:57 PM </td><td>2.0              </td><td>1.5            </td><td>1.0         </td><td>N                   </td><td>141.0         </td><td>239.0         </td><td>2.0           </td><td>8.0          </td><td>0.0    </td><td>0.5      </td><td>0.0         </td><td>0.0           </td><td>0.3                    </td><td>11.3          </td><td>2.5                   </td></tr>\n",
       "<tr><td>&lt;i style=&#x27;opacity: 0.6&#x27;&gt;77,188,340&lt;/i&gt;</td><td>2.0       </td><td>11/20/2019 01:33:38 PM</td><td>11/20/2019 01:38:28 PM </td><td>2.0              </td><td>0.54           </td><td>1.0         </td><td>N                   </td><td>239.0         </td><td>239.0         </td><td>2.0           </td><td>5.0          </td><td>0.0    </td><td>0.5      </td><td>0.0         </td><td>0.0           </td><td>0.3                    </td><td>8.3           </td><td>2.5                   </td></tr>\n",
       "<tr><td>&lt;i style=&#x27;opacity: 0.6&#x27;&gt;77,188,341&lt;/i&gt;</td><td>2.0       </td><td>11/20/2019 01:41:31 PM</td><td>11/20/2019 01:54:48 PM </td><td>2.0              </td><td>2.27           </td><td>1.0         </td><td>N                   </td><td>239.0         </td><td>43.0          </td><td>1.0           </td><td>11.0         </td><td>0.0    </td><td>0.5      </td><td>2.86        </td><td>0.0           </td><td>0.3                    </td><td>17.16         </td><td>2.5                   </td></tr>\n",
       "</tbody>\n",
       "</table>"
      ],
      "text/plain": [
       "#           VendorID    tpep_pickup_datetime    tpep_dropoff_datetime    passenger_count    trip_distance    RatecodeID    store_and_fwd_flag    PULocationID    DOLocationID    payment_type    fare_amount    extra    mta_tax    tip_amount    tolls_amount    improvement_surcharge    total_amount    congestion_surcharge\n",
       "0           1.0         10/08/2019 10:21:25 PM  10/08/2019 10:25:28 PM   1.0                0.8              1.0           N                     74.0            74.0            2.0             5.0            0.5      0.5        0.0           0.0             0.3                      6.3             0.0\n",
       "1           1.0         10/08/2019 10:55:18 PM  10/08/2019 11:00:27 PM   1.0                0.6              1.0           N                     163.0           229.0           1.0             5.5            3.0      0.5        1.85          0.0             0.3                      11.15           2.5\n",
       "2           2.0         10/08/2019 10:18:09 PM  10/08/2019 10:24:52 PM   1.0                1.27             1.0           N                     237.0           233.0           1.0             7.0            0.5      0.5        2.0           0.0             0.3                      12.8            2.5\n",
       "3           2.0         10/08/2019 10:50:40 PM  10/08/2019 10:59:37 PM   1.0                1.99             1.0           N                     161.0           236.0           1.0             9.0            0.5      0.5        1.92          0.0             0.3                      14.72           2.5\n",
       "4           2.0         10/08/2019 10:01:03 PM  10/08/2019 10:06:56 PM   1.0                1.24             1.0           N                     263.0           43.0            1.0             6.5            0.5      0.5        1.54          0.0             0.3                      11.84           2.5\n",
       "...         ...         ...                     ...                      ...                ...              ...           ...                   ...             ...             ...             ...            ...      ...        ...           ...             ...                      ...             ...\n",
       "77,188,337  2.0         11/20/2019 01:26:55 PM  11/20/2019 01:38:15 PM   1.0                1.21             1.0           N                     141.0           262.0           2.0             8.5            0.0      0.5        0.0           0.0             0.3                      11.8            2.5\n",
       "77,188,338  2.0         11/20/2019 01:42:44 PM  11/20/2019 02:06:35 PM   1.0                2.49             1.0           N                     140.0           170.0           1.0             15.5           0.0      0.5        5.64          0.0             0.3                      24.44           2.5\n",
       "77,188,339  2.0         11/20/2019 01:22:12 PM  11/20/2019 01:30:57 PM   2.0                1.5              1.0           N                     141.0           239.0           2.0             8.0            0.0      0.5        0.0           0.0             0.3                      11.3            2.5\n",
       "77,188,340  2.0         11/20/2019 01:33:38 PM  11/20/2019 01:38:28 PM   2.0                0.54             1.0           N                     239.0           239.0           2.0             5.0            0.0      0.5        0.0           0.0             0.3                      8.3             2.5\n",
       "77,188,341  2.0         11/20/2019 01:41:31 PM  11/20/2019 01:54:48 PM   2.0                2.27             1.0           N                     239.0           43.0            1.0             11.0           0.0      0.5        2.86          0.0             0.3                      17.16           2.5"
      ]
     },
     "execution_count": 7,
     "metadata": {},
     "output_type": "execute_result"
    }
   ],
   "source": [
    "# Filter the dataset for entries with certain passenger counts and\n",
    "# display a preview.\n",
    "df_filtered = df[(df.passenger_count > 0) & (df.passenger_count < 5)]\n",
    "df_filtered"
   ]
  },
  {
   "cell_type": "markdown",
   "id": "1c814c09",
   "metadata": {},
   "source": [
    "Why does this work so fast when we actually have over 80 mio. entries in the data set? \n",
    "\n",
    "> It does so, because VAEX has a zero-memory policy,\n",
    "\n",
    "i.e. filtering the data does not create a copy of it but simply a mapping. `df_filtered` takes no extra memory, instead it is a [shallow copy](https://stackoverflow.com/questions/184710/what-is-the-difference-between-a-deep-copy-and-a-shallow-copy). So instead copying the data and creating an object holding the filtered data, VAEX creates a binary mask applied to the original data. As a comparison: one needs around 1.2GB memory to filter an 80 billion row dataset that might take around 100 GB on disk. Other libraries will have to use another 100GB of memory for the filtered copy. \n",
    "\n",
    "### Transforming data\n",
    "\n",
    "If we transform data, we usually operate on the columns and create new ones. Again, if we do this we create usually more data objects (e.g. Pandas Series) to hold the transformed data. If we have like here >80 mio. entries this is a signficant increase in memory needed. To avoid this VAEX follows its zero-memory policy and works with socalled virtual columns. Virtual columns work as follows: if we create a column from some others in the dataframe VAEX simply stores the expression and evaluates it on-the-fly, if the column is needed. This policy is called [lazy evaluation](https://en.wikipedia.org/wiki/Lazy_evaluation#:~:text=In%20programming%20language%20theory%2C%20lazy,avoids%20repeated%20evaluations%20(sharing).). "
   ]
  },
  {
   "cell_type": "code",
   "execution_count": 8,
   "id": "7dfc74b1",
   "metadata": {},
   "outputs": [
    {
     "data": {
      "text/plain": [
       "Expression = tip_percentage\n",
       "Length: 82,112,352 dtype: float64 (column)\n",
       "------------------------------------------\n",
       "       0        0\n",
       "       1  16.5919\n",
       "       2   15.625\n",
       "       3  13.0435\n",
       "       4  13.0068\n",
       "       ...       \n",
       "82112347        0\n",
       "82112348  23.0769\n",
       "82112349        0\n",
       "82112350        0\n",
       "82112351  16.6667"
      ]
     },
     "execution_count": 8,
     "metadata": {},
     "output_type": "execute_result"
    }
   ],
   "source": [
    "# Create a new column with percentage values\n",
    "df['tip_percentage'] = df.tip_amount / df.total_amount * 100\n",
    "df.tip_percentage"
   ]
  },
  {
   "cell_type": "code",
   "execution_count": 9,
   "id": "1e77f46f",
   "metadata": {},
   "outputs": [
    {
     "data": {
      "text/html": [
       "<table>\n",
       "<thead>\n",
       "<tr><th>#                            </th><th style=\"text-align: right;\">  fare_amount</th><th style=\"text-align: right;\">  total_amount</th><th style=\"text-align: right;\">  tip_amount</th><th style=\"text-align: right;\">  tip_percentage</th></tr>\n",
       "</thead>\n",
       "<tbody>\n",
       "<tr><td>&lt;i style=&#x27;opacity: 0.6&#x27;&gt;0&lt;/i&gt;</td><td style=\"text-align: right;\">          5  </td><td style=\"text-align: right;\">          6.3 </td><td style=\"text-align: right;\">        0   </td><td style=\"text-align: right;\">          0     </td></tr>\n",
       "<tr><td>&lt;i style=&#x27;opacity: 0.6&#x27;&gt;1&lt;/i&gt;</td><td style=\"text-align: right;\">          5.5</td><td style=\"text-align: right;\">         11.15</td><td style=\"text-align: right;\">        1.85</td><td style=\"text-align: right;\">         16.5919</td></tr>\n",
       "<tr><td>&lt;i style=&#x27;opacity: 0.6&#x27;&gt;2&lt;/i&gt;</td><td style=\"text-align: right;\">          7  </td><td style=\"text-align: right;\">         12.8 </td><td style=\"text-align: right;\">        2   </td><td style=\"text-align: right;\">         15.625 </td></tr>\n",
       "<tr><td>&lt;i style=&#x27;opacity: 0.6&#x27;&gt;3&lt;/i&gt;</td><td style=\"text-align: right;\">          9  </td><td style=\"text-align: right;\">         14.72</td><td style=\"text-align: right;\">        1.92</td><td style=\"text-align: right;\">         13.0435</td></tr>\n",
       "<tr><td>&lt;i style=&#x27;opacity: 0.6&#x27;&gt;4&lt;/i&gt;</td><td style=\"text-align: right;\">          6.5</td><td style=\"text-align: right;\">         11.84</td><td style=\"text-align: right;\">        1.54</td><td style=\"text-align: right;\">         13.0068</td></tr>\n",
       "</tbody>\n",
       "</table>"
      ],
      "text/plain": [
       "  #    fare_amount    total_amount    tip_amount    tip_percentage\n",
       "  0            5              6.3           0               0\n",
       "  1            5.5           11.15          1.85           16.5919\n",
       "  2            7             12.8           2              15.625\n",
       "  3            9             14.72          1.92           13.0435\n",
       "  4            6.5           11.84          1.54           13.0068"
      ]
     },
     "execution_count": 9,
     "metadata": {},
     "output_type": "execute_result"
    }
   ],
   "source": [
    "# Show the new column in a group\n",
    "df[['fare_amount', 'total_amount', 'tip_amount', 'tip_percentage']].head(5)"
   ]
  },
  {
   "cell_type": "markdown",
   "id": "355e8629",
   "metadata": {},
   "source": [
    "The evaluation of such virtual columns in VAEX is blazingly fast as it is written in `C++` and works parallel in core. In the same way aggregation functions and other operands work quite fast in VAEX. We consider an example where we want to the count the trips that have taken place during the year 2019 with certain passenger numbers. "
   ]
  },
  {
   "cell_type": "code",
   "execution_count": 10,
   "id": "a7ef8355",
   "metadata": {},
   "outputs": [
    {
     "data": {
      "application/vnd.jupyter.widget-view+json": {
       "model_id": "9a5c404f99e64d44afd2a88c919a8526",
       "version_major": 2,
       "version_minor": 0
      },
      "text/plain": [
       "HBox(children=(FloatProgress(value=0.0, max=1.0), Label(value='In progress...')))"
      ]
     },
     "metadata": {},
     "output_type": "display_data"
    },
    {
     "data": {
      "text/plain": [
       "1.0    59108834\n",
       "2.0    12785787\n",
       "3.0     3583919\n",
       "5.0     3398212\n",
       "4.0     1709802\n",
       "0.0     1525798\n",
       "dtype: int64"
      ]
     },
     "execution_count": 10,
     "metadata": {},
     "output_type": "execute_result"
    }
   ],
   "source": [
    "# Count the number of trips in each passenger number group.\n",
    "df.passenger_count.value_counts(progress='widget')"
   ]
  },
  {
   "cell_type": "markdown",
   "id": "76c7c19f",
   "metadata": {},
   "source": [
    "In the following we show a functionality to plot large data using [matplotlib](https://matplotlib.org/) and [seaborn](https://seaborn.pydata.org/introduction.html) together with VAEX."
   ]
  },
  {
   "cell_type": "code",
   "execution_count": 11,
   "id": "92033f24",
   "metadata": {},
   "outputs": [
    {
     "name": "stdout",
     "output_type": "stream",
     "text": [
      "[#################-----------------------] 100.00% elapsed time  :     0.20s =  0.0m =  0.0h\n",
      " "
     ]
    },
    {
     "data": {
      "image/png": "[encoded data removed]",
      "text/plain": [
       "<Figure size 720x288 with 1 Axes>"
      ]
     },
     "metadata": {
      "needs_background": "light"
     },
     "output_type": "display_data"
    }
   ],
   "source": [
    "import matplotlib.pyplot as plt\n",
    "import seaborn as sns\n",
    "import numpy as np\n",
    "\n",
    "# Get the number of unique trips with different amount of passnegers\n",
    "passengers_num = df.passenger_count.value_counts(progress=True)\n",
    "\n",
    "# Plot the results in a bar chart.\n",
    "plt.figure(figsize=(10,4))\n",
    "sns.barplot(x=passengers_num.index, y=np.log10(passengers_num.values))\n",
    "plt.xlabel('Number of passengers')\n",
    "plt.ylabel('Number of trips [dex]')\n",
    "plt.xticks(rotation='45')\n",
    "plt.show()"
   ]
  },
  {
   "cell_type": "markdown",
   "id": "63960644",
   "metadata": {},
   "source": [
    "Now, you have some insight in how to work with large data files (often larger than your memory). Check out the [VAEX API](https://vaex.readthedocs.io/en/latest/api.html) and read through the documentation to learn more. "
   ]
  }
 ],
 "metadata": {
  "kernelspec": {
   "display_name": "Python 3",
   "language": "python",
   "name": "python3"
  },
  "language_info": {
   "codemirror_mode": {
    "name": "ipython",
    "version": 3
   },
   "file_extension": ".py",
   "mimetype": "text/x-python",
   "name": "python",
   "nbconvert_exporter": "python",
   "pygments_lexer": "ipython3",
   "version": "3.8.5"
  }
 },
 "nbformat": 4,
 "nbformat_minor": 5
}
